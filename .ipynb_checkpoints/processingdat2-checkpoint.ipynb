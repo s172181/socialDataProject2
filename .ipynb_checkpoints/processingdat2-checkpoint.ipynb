{
 "cells": [
  {
   "cell_type": "code",
   "execution_count": 35,
   "metadata": {},
   "outputs": [
    {
     "data": {
      "text/plain": [
       "IM_INCIDENT_KEY                   int64\n",
       "FIRE_BOX                         object\n",
       "INCIDENT_TYPE_DESC               object\n",
       "INCIDENT_DATE_TIME               object\n",
       "ARRIVAL_DATE_TIME                object\n",
       "UNITS_ONSCENE                   float64\n",
       "LAST_UNIT_CLEARED_DATE_TIME      object\n",
       "HIGHEST_LEVEL_DESC               object\n",
       "TOTAL_INCIDENT_DURATION         float64\n",
       "ACTION_TAKEN1_DESC               object\n",
       "ACTION_TAKEN2_DESC               object\n",
       "ACTION_TAKEN3_DESC               object\n",
       "PROPERTY_USE_DESC                object\n",
       "STREET_HIGHWAY                   object\n",
       "ZIP_CODE                         object\n",
       "BOROUGH_DESC                     object\n",
       "FLOOR                            object\n",
       "CO_DETECTOR_PRESENT_DESC         object\n",
       "FIRE_ORIGIN_BELOW_GRADE_FLAG    float64\n",
       "STORY_FIRE_ORIGIN_COUNT         float64\n",
       "FIRE_SPREAD_DESC                 object\n",
       "DETECTOR_PRESENCE_DESC           object\n",
       "AES_PRESENCE_DESC                object\n",
       "STANDPIPE_SYS_PRESENT_FLAG      float64\n",
       "dtype: object"
      ]
     },
     "execution_count": 35,
     "metadata": {},
     "output_type": "execute_result"
    }
   ],
   "source": [
    "import pandas as pd\n",
    "\n",
    "df = pd.read_csv('Incidents_Responded_to_by_Fire_Companies.csv')\n",
    "df.dtypes\n"
   ]
  },
  {
   "cell_type": "code",
   "execution_count": 37,
   "metadata": {},
   "outputs": [],
   "source": [
    "#df['ZIP_CODE'].astype(str).astype(int)\n",
    "df['ZIP_CODE'] = pd.to_numeric(df['ZIP_CODE'], errors='coerce')"
   ]
  },
  {
   "cell_type": "code",
   "execution_count": 113,
   "metadata": {},
   "outputs": [],
   "source": [
    "df2 = df;\n",
    "df2['INCIDENT_DATE_TIME'] = pd.to_datetime(pd.Series(df['INCIDENT_DATE_TIME']), format=\"%m/%d/%Y %H:%M:%S %p\", errors='coerce')\n",
    "#df2['INCIDENT_MONTH'] = df2['INCIDENT_DATE_TIME'].dt.month\n",
    "dfall2013 = df2[df2['INCIDENT_DATE_TIME'].dt.year == 2013]\n",
    "dfall2014 = df2[df2['INCIDENT_DATE_TIME'].dt.year == 2014]\n",
    "dfall2015 = df2[df2['INCIDENT_DATE_TIME'].dt.year == 2015]\n",
    "dfall2016 = df2[df2['INCIDENT_DATE_TIME'].dt.year == 2016]\n",
    "dfall2017 = df2[df2['INCIDENT_DATE_TIME'].dt.year == 2017]"
   ]
  },
  {
   "cell_type": "code",
   "execution_count": 117,
   "metadata": {},
   "outputs": [],
   "source": [
    "#grouped_monthYear = df2.groupby( [ df2['INCIDENT_DATE_TIME'].dt.year, df2['INCIDENT_MONTH']] ,as_index=0)\n",
    "outmonthy = pd.DataFrame(dfall2017.sort_values(['INCIDENT_DATE_TIME'], ascending=True))\n",
    "outmonthy.to_csv('allincidents2017.csv', sep=',', encoding='utf-8',columns=['IM_INCIDENT_KEY','INCIDENT_DATE_TIME','ZIP_CODE'],index=0,mode='a')"
   ]
  },
  {
   "cell_type": "code",
   "execution_count": 69,
   "metadata": {},
   "outputs": [],
   "source": [
    "#df[df['INCIDENT_DATE_TIME'].dt.year == 2013]\n",
    "#manhattan[manhattan['CMPLNT_FR_DT'].dt.year == 2016].groupby('PD_DESC').size().nlargest(10)\n",
    "\n",
    "#df2.groupby(df2['INCIDENT_DATE_TIME'].dt.year).size()\n",
    "df3013 = df2[df2['INCIDENT_DATE_TIME'].dt.year == 2013]\n",
    "df3014 = df2[df2['INCIDENT_DATE_TIME'].dt.year == 2014]\n",
    "df3015 = df2[df2['INCIDENT_DATE_TIME'].dt.year == 2015]\n",
    "df3016 = df2[df2['INCIDENT_DATE_TIME'].dt.year == 2016]\n",
    "df3017 = df2[df2['INCIDENT_DATE_TIME'].dt.year == 2017]\n",
    "#df30122 = df2['ZIP_CODE']\n",
    "#df30122['ZIP_CODE'] = df3012['ZIP_CODE'].str.replace('.0', ' ')\n",
    "#df30122 = df30122['ZIP_CODE']\n",
    "#df30122 = df[df['ZIP_CODE'].str.contains(\".\", na=False)]\n",
    "#df30122 = df['ZIP_CODE']\n",
    "#out2013 = pd.DataFrame(grouped_df.size().reset_index(name = \"Group_Count\").sort_values(['Group_Count'], ascending=False))\n",
    "#df30122.to_csv('zipcodes2013-9.csv', sep=',', encoding='utf-8',index=0)\n",
    "#df3012.groupby(df2['INCIDENT_DATE_TIME'].dt.year).size()\n",
    "#df30122"
   ]
  },
  {
   "cell_type": "code",
   "execution_count": 72,
   "metadata": {},
   "outputs": [],
   "source": [
    "#df['newzip'] = df['ZIP_CODE'].str.split(' ').str[0]\n",
    "#df['newzip']\n",
    "grouped_df = df3013.groupby( [ \"ZIP_CODE\",df3013['INCIDENT_DATE_TIME'].dt.year] )\n",
    "grouped_df2 = df3014.groupby( [ \"ZIP_CODE\" ,df3014['INCIDENT_DATE_TIME'].dt.year] )\n",
    "grouped_df3 = df3015.groupby( [ \"ZIP_CODE\" ,df3015['INCIDENT_DATE_TIME'].dt.year] )\n",
    "grouped_df4 = df3016.groupby( [ \"ZIP_CODE\",df3016['INCIDENT_DATE_TIME'].dt.year] )\n",
    "grouped_df5 = df3017.groupby( [ \"ZIP_CODE\" ,df3017['INCIDENT_DATE_TIME'].dt.year] )"
   ]
  },
  {
   "cell_type": "code",
   "execution_count": 74,
   "metadata": {},
   "outputs": [],
   "source": [
    "out2013 = pd.DataFrame(grouped_df.size().reset_index(name = \"Group_Count\").sort_values(['Group_Count'], ascending=False))\n",
    "out2013.to_csv('zipcodesAll.csv', sep=',', encoding='utf-8',index=0,mode='a')\n",
    "\n",
    "out2014 = pd.DataFrame(grouped_df2.size().reset_index(name = \"Group_Count\").sort_values(['Group_Count'], ascending=False))\n",
    "out2014.to_csv('zipcodesAll.csv', sep=',', encoding='utf-8',index=0,mode='a', header=False)\n",
    "\n",
    "out2015 = pd.DataFrame(grouped_df3.size().reset_index(name = \"Group_Count\").sort_values(['Group_Count'], ascending=False))\n",
    "out2015.to_csv('zipcodesAll.csv', sep=',', encoding='utf-8',index=0,mode='a', header=False)\n",
    "\n",
    "out2016 = pd.DataFrame(grouped_df4.size().reset_index(name = \"Group_Count\").sort_values(['Group_Count'], ascending=False))\n",
    "out2016.to_csv('zipcodesAll.csv', sep=',', encoding='utf-8',index=0,mode='a', header=False)\n",
    "\n",
    "out2017 = pd.DataFrame(grouped_df5.size().reset_index(name = \"Group_Count\").sort_values(['Group_Count'], ascending=False))\n",
    "out2017.to_csv('zipcodesAll.csv', sep=',', encoding='utf-8',index=0,mode='a', header=False)"
   ]
  },
  {
   "cell_type": "code",
   "execution_count": null,
   "metadata": {
    "collapsed": true
   },
   "outputs": [],
   "source": []
  }
 ],
 "metadata": {
  "kernelspec": {
   "display_name": "Python 2",
   "language": "python",
   "name": "python2"
  },
  "language_info": {
   "codemirror_mode": {
    "name": "ipython",
    "version": 2
   },
   "file_extension": ".py",
   "mimetype": "text/x-python",
   "name": "python",
   "nbconvert_exporter": "python",
   "pygments_lexer": "ipython2",
   "version": "2.7.13"
  }
 },
 "nbformat": 4,
 "nbformat_minor": 2
}
